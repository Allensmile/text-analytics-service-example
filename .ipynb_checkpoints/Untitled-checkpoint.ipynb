{
 "cells": [
  {
   "cell_type": "code",
   "execution_count": null,
   "metadata": {
    "ExecuteTime": {
     "start_time": "2016-08-23T19:23:09.721Z"
    },
    "collapsed": true
   },
   "outputs": [],
   "source": [
    "# import json\n",
    "\n",
    "# import dill\n",
    "# import pandas as pd\n",
    "# import urllib"
   ]
  },
  {
   "cell_type": "code",
   "execution_count": null,
   "metadata": {
    "ExecuteTime": {
     "start_time": "2016-08-23T19:23:10.047Z"
    },
    "collapsed": true
   },
   "outputs": [],
   "source": [
    "# features_uri = 'https://ibm.box.com/shared/static/2vntdqbozf9lzmukkeoq1lfi2pcb00j1.dataframe' \n",
    "# sim_uri = 'https://ibm.box.com/shared/static/54kzs5zquv0vjycemjckjbh0n00e7m5t.dataframe'\n",
    "\n",
    "\n",
    "# resp = requests.get(features_uri)\n",
    "# resp.raise_for_status()\n",
    "# features_df = pickle.loads(resp.content)"
   ]
  },
  {
   "cell_type": "code",
   "execution_count": null,
   "metadata": {
    "ExecuteTime": {
     "start_time": "2016-08-23T19:23:10.450Z"
    },
    "collapsed": true
   },
   "outputs": [],
   "source": [
    "# f = urllib.request.urlopen(\"https://github.com/crawles/sentiment_analysis_twitter_model/raw/master/twitter_sentiment_model.pkl\")\n",
    "# # cl = dill.load(f)\n",
    "# f.close()"
   ]
  },
  {
   "cell_type": "code",
   "execution_count": null,
   "metadata": {
    "ExecuteTime": {
     "start_time": "2016-08-23T19:23:10.854Z"
    },
    "collapsed": true
   },
   "outputs": [],
   "source": [
    "# REQUEST = json.dumps({\n",
    "#     'path' : {},\n",
    "#     'args' : {}\n",
    "# })"
   ]
  },
  {
   "cell_type": "code",
   "execution_count": null,
   "metadata": {
    "collapsed": true
   },
   "outputs": [],
   "source": [
    "# GET /hello1\n",
    "print(\"hello world\")"
   ]
  },
  {
   "cell_type": "code",
   "execution_count": null,
   "metadata": {
    "collapsed": true
   },
   "outputs": [],
   "source": [
    "# GET /hello2\n",
    "print(\"hello world\")"
   ]
  },
  {
   "cell_type": "code",
   "execution_count": null,
   "metadata": {
    "ExecuteTime": {
     "start_time": "2016-08-23T19:33:46.160Z"
    },
    "collapsed": true
   },
   "outputs": [],
   "source": [
    "# GET /hello3\n",
    "print(\"hello world\")"
   ]
  },
  {
   "cell_type": "code",
   "execution_count": null,
   "metadata": {
    "collapsed": true
   },
   "outputs": [],
   "source": []
  }
 ],
 "metadata": {
  "kernelspec": {
   "display_name": "Python 3",
   "language": "python",
   "name": "python3"
  },
  "language_info": {
   "codemirror_mode": {
    "name": "ipython",
    "version": 3
   },
   "file_extension": ".py",
   "mimetype": "text/x-python",
   "name": "python",
   "nbconvert_exporter": "python",
   "pygments_lexer": "ipython3",
   "version": "3.5.2"
  }
 },
 "nbformat": 4,
 "nbformat_minor": 0
}
