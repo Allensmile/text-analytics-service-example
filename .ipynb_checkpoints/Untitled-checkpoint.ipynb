{
 "cells": [
  {
   "cell_type": "code",
   "execution_count": 9,
   "metadata": {
    "ExecuteTime": {
     "end_time": "2016-08-24T11:16:17.753340",
     "start_time": "2016-08-24T11:16:17.733692"
    },
    "collapsed": false
   },
   "outputs": [],
   "source": [
    "import json\n",
    "\n",
    "import dill\n",
    "import pandas as pd\n",
    "import requests\n",
    "import sklearn\n",
    "import urllib.request"
   ]
  },
  {
   "cell_type": "code",
   "execution_count": 15,
   "metadata": {
    "ExecuteTime": {
     "end_time": "2016-08-24T12:13:21.260686",
     "start_time": "2016-08-24T12:13:19.897690"
    },
    "collapsed": true
   },
   "outputs": [],
   "source": [
    "resp = requests.get(\"https://github.com/crawles/sentiment_analysis_twitter_model/raw/master/twitter_sentiment_model.pkl\")\n",
    "resp.raise_for_status()\n",
    "cl = dill.loads(resp.content)"
   ]
  },
  {
   "cell_type": "code",
   "execution_count": null,
   "metadata": {
    "ExecuteTime": {
     "end_time": "2016-08-22T17:52:15.653020",
     "start_time": "2016-08-22T17:52:15.636712"
    },
    "collapsed": false
   },
   "outputs": [],
   "source": [
    "# POST /\n",
    "req = json.loads(REQUEST)\n",
    "print(cl.predict_proba(req['body']['data'])[:][:,1])"
   ]
  }
 ],
 "metadata": {
  "kernelspec": {
   "display_name": "Python 3",
   "language": "python",
   "name": "python3"
  },
  "language_info": {
   "codemirror_mode": {
    "name": "ipython",
    "version": 3
   },
   "file_extension": ".py",
   "mimetype": "text/x-python",
   "name": "python",
   "nbconvert_exporter": "python",
   "pygments_lexer": "ipython3",
   "version": "3.5.2"
  }
 },
 "nbformat": 4,
 "nbformat_minor": 0
}
