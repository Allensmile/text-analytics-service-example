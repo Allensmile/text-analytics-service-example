{
 "cells": [
  {
   "cell_type": "code",
   "execution_count": 9,
   "metadata": {
    "ExecuteTime": {
     "end_time": "2016-08-24T11:16:17.753340",
     "start_time": "2016-08-24T11:16:17.733692"
    },
    "collapsed": false
   },
   "outputs": [],
   "source": [
    "import json\n",
    "\n",
    "import dill\n",
    "import pandas as pd\n",
    "import sklearn\n",
    "import urllib.request"
   ]
  },
  {
   "cell_type": "code",
   "execution_count": null,
   "metadata": {
    "collapsed": true
   },
   "outputs": [],
   "source": [
    "# f = urllib.request.urlopen(\"https://github.com/crawles/sentiment_analysis_twitter_model/raw/master/twitter_sentiment_model.pkl\")\n",
    "# cl = dill.load(f)\n",
    "# f.close()"
   ]
  },
  {
   "cell_type": "markdown",
   "metadata": {},
   "source": [
    "Error message in cloud foundry:\n",
    "\n",
    "2016-08-24T14:13:28.29-0400 [APP/0]      ERR [KernelGatewayApp] Kernel started: d91d61c7-581f-4526-adcf-f63c91579392\n",
    "2016-08-24T14:13:35.32-0400 [APP/0]      ERR [KernelGatewayApp] Kernel shutdown: d91d61c7-581f-4526-adcf-f63c91579392\n",
    "2016-08-24T14:13:35.32-0400 [APP/0]      ERR Future <tornado.concurrent.Future object at 0x7feb5d315ba8> exception was never retrieved: Traceback (most recent call last):\n",
    "2016-08-24T14:13:35.32-0400 [APP/0]      ERR   File \"/home/vcap/app/.conda/envs/dep_env/lib/python3.5/site-packages/tornado/gen.py\", line 1024, in run\n",
    "2016-08-24T14:13:35.32-0400 [APP/0]      ERR     yielded = self.gen.send(value)\n",
    "2016-08-24T14:13:35.32-0400 [APP/0]      ERR   File \"/home/vcap/app/.conda/envs/dep_env/lib/python3.5/site-packages/kernel_gateway/services/kernels/manager.py\", line 92, in start_kernel\n",
    "2016-08-24T14:13:35.32-0400 [APP/0]      ERR     raise RuntimeError('Error seeding kernel memory', msg['content'])\n",
    "2016-08-24T14:13:35.32-0400 [APP/0]      ERR RuntimeError: ('Error seeding kernel memory', {'engine_info': {'method': 'execute', 'engine_id': -1, 'engine_uuid': 'e176bc72-2f6a-47db-ad85-63c20b39d7e5'}, 'traceback': ['\\x1b[0;31m---------------------------------------------------------------------------\\x1b[0m', '\\x1b[0;31mSSLError\\x1b[0m                                  Traceback (most recent call last)', '\\x1b[0;32m/home/vcap/app/.conda/envs/dep_env/lib/python3.5/urllib/request.py\\x1b[0m in \\x1b[0;36mdo_open\\x1b[0;34m(self, http_class, req, **http_conn_args)\\x1b[0m\\n\\x1b[1;32m   1253\\x1b[0m             \\x1b[0;32mtry\\x1b[0m\\x1b[0;34m:\\x1b[0m\\x1b[0;34m\\x1b[0m\\x1b[0m\\n\\x1b[0;32m-> 1254\\x1b[0;31m                 \\x1b[0mh\\x1b[0m\\x1b[0;34m.\\x1b[0m\\x1b[0mrequest\\x1b[0m\\x1b[0;34m(\\x1b[0m\\x1b[0mreq\\x1b[0m\\x1b[0;34m.\\x1b[0m\\x1b[0mget_method\\x1b[0m\\x1b[0;34m(\\x1b[0m\\x1b[0;34m)\\x1b[0m\\x1b[0;34m,\\x1b[0m \\x1b[0mreq\\x1b[0m\\x1b[0;34m.\\x1b[0m\\x1b[0mselector\\x1b[0m\\x1b[0;34m,\\x1b[0m \\x1b[0mreq\\x1b[0m\\x1b[0;34m.\\x1b[0m\\x1b[0mdata\\x1b[0m\\x1b[0;34m,\\x1b[0m \\x1b[0mheaders\\x1b[0m\\x1b[0;34m)\\x1b[0m\\x1b[0;34m\\x1b[0m\\x1b[0m\\n\\x1b[0m\\x1b[1;32m   1255\\x1b[0m             \\x1b[0;32mexcept\\x1b[0m \\x1b[0mOSError\\x1b[0m \\x1b[0;32mas\\x1b[0m \\x1b[0merr\\x1b[0m\\x1b[0;34m:\\x1b[0m \\x1b[0;31m# timeout error\\x1b[0m\\x1b[0;34m\\x1b[0m\\x1b[0m\\n', '\\x1b[0;32m/home/vcap/app/.conda/envs/dep_env/lib/python3.5/http/client.py\\x1b[0m in \\x1b[0;36mrequest\\x1b[0;34m(self, method, url, body, headers)\\x1b[0m\\n\\x1b[1;32m   1105\\x1b[0m         \\x1b[0;34m\"\"\"Send a complete request to the server.\"\"\"\\x1b[0m\\x1b[0;34m\\x1b[0m\\x1b[0m\\n\\x1b[0;32m-> 1106\\x1b[0;31m         \\x1b[0mself\\x1b[0m\\x1b[0;34m.\\x1b[0m\\x1b[0m_send_request\\x1b[0m\\x1b[0;34m(\\x1b[0m\\x1b[0mmethod\\x1b[0m\\x1b[0;34m,\\x1b[0m \\x1b[0murl\\x1b[0m\\x1b[0;34m,\\x1b[0m \\x1b[0mbody\\x1b[0m\\x1b[0;34m,\\x1b[0m \\x1b[0mheaders\\x1b[0m\\x1b[0;34m)\\x1b[0m\\x1b[0;34m\\x1b[0m\\x1b[0m\\n\\x1b[0m\\x1b[1;32m   1107\\x1b[0m \\x1b[0;34m\\x1b[0m\\x1b[0m\\n', \"\\x1b[0;32m/home/vcap/app/.conda/envs/dep_env/lib/python3.5/http/client.py\\x1b[0m in \\x1b[0;36m_send_request\\x1b[0;34m(self, method, url, body, headers)\\x1b[0m\\n\\x1b[1;32m   1150\\x1b[0m             \\x1b[0mbody\\x1b[0m \\x1b[0;34m=\\x1b[0m \\x1b[0m_encode\\x1b[0m\\x1b[0;34m(\\x1b[0m\\x1b[0mbody\\x1b[0m\\x1b[0;34m,\\x1b[0m \\x1b[0;34m'body'\\x1b[0m\\x1b[0;34m)\\x1b[0m\\x1b[0;34m\\x1b[0m\\x1b[0m\\n\\x1b[0;32m-> 1151\\x1b[0;31m         \\x1b[0mself\\x1b[0m\\x1b[0;34m.\\x1b[0m\\x1b[0mendheaders\\x1b[0m\\x1b[0;34m(\\x1b[0m\\x1b[0mbody\\x1b[0m\\x1b[0;34m)\\x1b[0m\\x1b[0;34m\\x1b[0m\\x1b[0m\\n\\x1b[0m\\x1b[1;32m   1152\\x1b[0m \\x1b[0;34m\\x1b[0m\\x1b[0m\\n\", '\\x1b[0;32m/home/vcap/app/.conda/envs/dep_env/lib/python3.5/http/client.py\\x1b[0m in \\x1b[0;36mendheaders\\x1b[0;34m(self, message_body)\\x1b[0m\\n\\x1b[1;32m   1101\\x1b[0m             \\x1b[0;32mraise\\x1b[0m \\x1b[0mCannotSendHeader\\x1b[0m\\x1b[0;34m(\\x1b[0m\\x1b[0;34m)\\x1b[0m\\x1b[0;34m\\x1b[0m\\x1b[0m\\n\\x1b[0;32m-> 1102\\x1b[0;31m         \\x1b[0mself\\x1b[0m\\x1b[0;34m.\\x1b[0m\\x1b[0m_send_output\\x1b[0m\\x1b[0;34m(\\x1b[0m\\x1b[0mmessage_body\\x1b[0m\\x1b[0;34m)\\x1b[0m\\x1b[0;34m\\x1b[0m\\x1b[0m\\n\\x1b[0m\\x1b[1;32m   1103\\x1b[0m \\x1b[0;34m\\x1b[0m\\x1b[0m\\n', '\\x1b[0;32m/home/vcap/app/.conda/envs/dep_env/lib/python3.5/http/client.py\\x1b[0m in \\x1b[0;36m_send_output\\x1b[0;34m(self, message_body)\\x1b[0m\\n\\x1b[1;32m    933\\x1b[0m \\x1b[0;34m\\x1b[0m\\x1b[0m\\n\\x1b[0;32m--> 934\\x1b[0;31m         \\x1b[0mself\\x1b[0m\\x1b[0;34m.\\x1b[0m\\x1b[0msend\\x1b[0m\\x1b[0;34m(\\x1b[0m\\x1b[0mmsg\\x1b[0m\\x1b[0;34m)\\x1b[0m\\x1b[0;34m\\x1b[0m\\x1b[0m\\n\\x1b[0m\\x1b[1;32m    935\\x1b[0m         \\x1b[0;32mif\\x1b[0m \\x1b[0mmessage_body\\x1b[0m \\x1b[0;32mis\\x1b[0m \\x1b[0;32mnot\\x1b[0m \\x1b[0;32mNone\\x1b[0m\\x1b[0;34m:\\x1b[0m\\x1b[0;34m\\x1b[0m\\x1b[0m\\n', '\\x1b[0;32m/home/vcap/app/.conda/envs/dep_env/lib/python3.5/http/client.py\\x1b[0m in \\x1b[0;36msend\\x1b[0;34m(self, data)\\x1b[0m\\n\\x1b[1;32m    876\\x1b[0m             \\x1b[0;32mif\\x1b[0m \\x1b[0mself\\x1b[0m\\x1b[0;34m.\\x1b[0m\\x1b[0mauto_open\\x1b[0m\\x1b[0;34m:\\x1b[0m\\x1b[0;34m\\x1b[0m\\x1b[0m\\n\\x1b[0;32m--> 877\\x1b[0;31m                 \\x1b[0mself\\x1b[0m\\x1b[0;34m.\\x1b[0m\\x1b[0mconnect\\x1b[0m\\x1b[0;34m(\\x1b[0m\\x1b[0;34m)\\x1b[0m\\x1b[0;34m\\x1b[0m\\x1b[0m\\n\\x1b[0m\\x1b[1;32m    878\\x1b[0m             \\x1b[0;32melse\\x1b[0m\\x1b[0;34m:\\x1b[0m\\x1b[0;34m\\x1b[0m\\x1b[0m\\n', '\\x1b[0;32m/home/vcap/app/.conda/envs/dep_env/lib/python3.5/http/client.py\\x1b[0m in \\x1b[0;36mconnect\\x1b[0;34m(self)\\x1b[0m\\n\\x1b[1;32m   1259\\x1b[0m             self.sock = self._context.wrap_socket(self.sock,\\n\\x1b[0;32m-> 1260\\x1b[0;31m                                                   server_hostname=server_hostname)\\n\\x1b[0m\\x1b[1;32m   1261\\x1b[0m             \\x1b[0;32mif\\x1b[0m \\x1b[0;32mnot\\x1b[0m \\x1b[0mself\\x1b[0m\\x1b[0;34m.\\x1b[0m\\x1b[0m_context\\x1b[0m\\x1b[0;34m.\\x1b[0m\\x1b[0mcheck_hostname\\x1b[0m \\x1b[0;32mand\\x1b[0m \\x1b[0mself\\x1b[0m\\x1b[0;34m.\\x1b[0m\\x1b[0m_check_hostname\\x1b[0m\\x1b[0;34m:\\x1b[0m\\x1b[0;34m\\x1b[0m\\x1b[0m\\n', '\\x1b[0;32m/home/vcap/app/.conda/envs/dep_env/lib/python3.5/ssl.py\\x1b[0m in \\x1b[0;36mwrap_socket\\x1b[0;34m(self, sock, server_side, do_handshake_on_connect, suppress_ragged_eofs, server_hostname)\\x1b[0m\\n\\x1b[1;32m    376\\x1b[0m                          \\x1b[0mserver_hostname\\x1b[0m\\x1b[0;34m=\\x1b[0m\\x1b[0mserver_hostname\\x1b[0m\\x1b[0;34m,\\x1b[0m\\x1b[0;34m\\x1b[0m\\x1b[0m\\n\\x1b[0;32m--> 377\\x1b[0;31m                          _context=self)\\n\\x1b[0m\\x1b[1;32m    378\\x1b[0m \\x1b[0;34m\\x1b[0m\\x1b[0m\\n', '\\x1b[0;32m/home/vcap/app/.conda/envs/dep_env/lib/python3.5/ssl.py\\x1b[0m in \\x1b[0;36m__init__\\x1b[0;34m(self, sock, keyfile, certfile, server_side, cert_reqs, ssl_version, ca_certs, do_handshake_on_connect, family, type, proto, fileno, suppress_ragged_eofs, npn_protocols, ciphers, server_hostname, _context)\\x1b[0m\\n\\x1b[1;32m    751\\x1b[0m                         \\x1b[0;32mraise\\x1b[0m \\x1b[0mValueError\\x1b[0m\\x1b[0;34m(\\x1b[0m\\x1b[0;34m\"do_handshake_on_connect should not be specified for non-blocking sockets\"\\x1b[0m\\x1b[0;34m)\\x1b[0m\\x1b[0;34m\\x1b[0m\\x1b[0m\\n\\x1b[0;32m--> 752\\x1b[0;31m                     \\x1b[0mself\\x1b[0m\\x1b[0;34m.\\x1b[0m\\x1b[0mdo_handshake\\x1b[0m\\x1b[0;34m(\\x1b[0m\\x1b[0;34m)\\x1b[0m\\x1b[0;34m\\x1b[0m\\x1b[0m\\n\\x1b[0m\\x1b[1;32m    753\\x1b[0m \\x1b[0;34m\\x1b[0m\\x1b[0m\\n', '\\x1b[0;32m/home/vcap/app/.conda/envs/dep_env/lib/python3.5/ssl.py\\x1b[0m in \\x1b[0;36mdo_handshake\\x1b[0;34m(self, block)\\x1b[0m\\n\\x1b[1;32m    987\\x1b[0m                 \\x1b[0mself\\x1b[0m\\x1b[0;34m.\\x1b[0m\\x1b[0msettimeout\\x1b[0m\\x1b[0;34m(\\x1b[0m\\x1b[0;32mNone\\x1b[0m\\x1b[0;34m)\\x1b[0m\\x1b[0;34m\\x1b[0m\\x1b[0m\\n\\x1b[0;32m--> 988\\x1b[0;31m             \\x1b[0mself\\x1b[0m\\x1b[0;34m.\\x1b[0m\\x1b[0m_sslobj\\x1b[0m\\x1b[0;34m.\\x1b[0m\\x1b[0mdo_handshake\\x1b[0m\\x1b[0;34m(\\x1b[0m\\x1b[0;34m)\\x1b[0m\\x1b[0;34m\\x1b[0m\\x1b[0m\\n\\x1b[0m\\x1b[1;32m    989\\x1b[0m         \\x1b[0;32mfinally\\x1b[0m\\x1b[0;34m:\\x1b[0m\\x1b[0;34m\\x1b[0m\\x1b[0m\\n', '\\x1b[0;32m/home/vcap/app/.conda/envs/dep_env/lib/python3.5/ssl.py\\x1b[0m in \\x1b[0;36mdo_handshake\\x1b[0;34m(self)\\x1b[0m\\n\\x1b[1;32m    632\\x1b[0m         \\x1b[0;34m\"\"\"Start the SSL/TLS handshake.\"\"\"\\x1b[0m\\x1b[0;34m\\x1b[0m\\x1b[0m\\n\\x1b[0;32m--> 633\\x1b[0;31m         \\x1b[0mself\\x1b[0m\\x1b[0;34m.\\x1b[0m\\x1b[0m_sslobj\\x1b[0m\\x1b[0;34m.\\x1b[0m\\x1b[0mdo_handshake\\x1b[0m\\x1b[0;34m(\\x1b[0m\\x1b[0;34m)\\x1b[0m\\x1b[0;34m\\x1b[0m\\x1b[0m\\n\\x1b[0m\\x1b[1;32m    634\\x1b[0m         \\x1b[0;32mif\\x1b[0m \\x1b[0mself\\x1b[0m\\x1b[0;34m.\\x1b[0m\\x1b[0mcontext\\x1b[0m\\x1b[0;34m.\\x1b[0m\\x1b[0mcheck_hostname\\x1b[0m\\x1b[0;34m:\\x1b[0m\\x1b[0;34m\\x1b[0m\\x1b[0m\\n', '\\x1b[0;31mSSLError\\x1b[0m: [SSL: CERTIFICATE_VERIFY_FAILED] certificate verify failed (_ssl.c:646)', '\\nDuring handling of the above exception, another exception occurred:\\n', '\\x1b[0;31mURLError\\x1b[0m                                  Traceback (most recent call last)', '\\x1b[0;32m<ipython-input-2-8f9d430635c1>\\x1b[0m in \\x1b[0;36m<module>\\x1b[0;34m()\\x1b[0m\\n\\x1b[0;32m----> 1\\x1b[0;31m \\x1b[0mf\\x1b[0m \\x1b[0;34m=\\x1b[0m \\x1b[0murllib\\x1b[0m\\x1b[0;34m.\\x1b[0m\\x1b[0mrequest\\x1b[0m\\x1b[0;34m.\\x1b[0m\\x1b[0murlopen\\x1b[0m\\x1b[0;34m(\\x1b[0m\\x1b[0;34m\"https://github.com/crawles/sentiment_analysis_twitter_model/raw/master/twitter_sentiment_model.pkl\"\\x1b[0m\\x1b[0;34m)\\x1b[0m\\x1b[0;34m\\x1b[0m\\x1b[0m\\n\\x1b[0m\\x1b[1;32m      2\\x1b[0m \\x1b[0mcl\\x1b[0m \\x1b[0;34m=\\x1b[0m \\x1b[0mdill\\x1b[0m\\x1b[0;34m.\\x1b[0m\\x1b[0mload\\x1b[0m\\x1b[0;34m(\\x1b[0m\\x1b[0mf\\x1b[0m\\x1b[0;34m)\\x1b[0m\\x1b[0;34m\\x1b[0m\\x1b[0m\\n\\x1b[1;32m      3\\x1b[0m \\x1b[0mf\\x1b[0m\\x1b[0;34m.\\x1b[0m\\x1b[0mclose\\x1b[0m\\x1b[0;34m(\\x1b[0m\\x1b[0;34m)\\x1b[0m\\x1b[0;34m\\x1b[0m\\x1b[0m\\n', '\\x1b[0;32m/home/vcap/app/.conda/envs/dep_env/lib/python3.5/urllib/request.py\\x1b[0m in \\x1b[0;36murlopen\\x1b[0;34m(url, data, timeout, cafile, capath, cadefault, context)\\x1b[0m\\n\\x1b[1;32m    161\\x1b[0m     \\x1b[0;32melse\\x1b[0m\\x1b[0;34m:\\x1b[0m\\x1b[0;34m\\x1b[0m\\x1b[0m\\n\\x1b[1;32m    162\\x1b[0m         \\x1b[0mopener\\x1b[0m \\x1b[0;34m=\\x1b[0m \\x1b[0m_opener\\x1b[0m\\x1b[0;34m\\x1b[0m\\x1b[0m\\n\\x1b[0;32m--> 163\\x1b[0;31m     \\x1b[0;32mreturn\\x1b[0m \\x1b[0mopener\\x1b[0m\\x1b[0;34m.\\x1b[0m\\x1b[0mopen\\x1b[0m\\x1b[0;34m(\\x1b[0m\\x1b[0murl\\x1b[0m\\x1b[0;34m,\\x1b[0m \\x1b[0mdata\\x1b[0m\\x1b[0;34m,\\x1b[0m \\x1b[0mtimeout\\x1b[0m\\x1b[0;34m)\\x1b[0m\\x1b[0;34m\\x1b[0m\\x1b[0m\\n\\x1b[0m\\x1b[1;32m    164\\x1b[0m \\x1b[0;34m\\x1b[0m\\x1b[0m\\n\\x1b[1;32m    165\\x1b[0m \\x1b[0;32mdef\\x1b[0m \\x1b[0minstall_opener\\x1b[0m\\x1b[0;34m(\\x1b[0m\\x1b[0mopener\\x1b[0m\\x1b[0;34m)\\x1b[0m\\x1b[0;34m:\\x1b[0m\\x1b[0;34m\\x1b[0m\\x1b[0m\\n', '\\x1b[0;32m/home/vcap/app/.conda/envs/dep_env/lib/python3.5/urllib/request.py\\x1b[0m in \\x1b[0;36mopen\\x1b[0;34m(self, fullurl, data, timeout)\\x1b[0m\\n\\x1b[1;32m    464\\x1b[0m             \\x1b[0mreq\\x1b[0m \\x1b[0;34m=\\x1b[0m \\x1b[0mmeth\\x1b[0m\\x1b[0;34m(\\x1b[0m\\x1b[0mreq\\x1b[0m\\x1b[0;34m)\\x1b[0m\\x1b[0;34m\\x1b[0m\\x1b[0m\\n\\x1b[1;32m    465\\x1b[0m \\x1b[0;34m\\x1b[0m\\x1b[0m\\n\\x1b[0;32m--> 466\\x1b[0;31m         \\x1b[0mresponse\\x1b[0m \\x1b[0;34m=\\x1b[0m \\x1b[0mself\\x1b[0m\\x1b[0;34m.\\x1b[0m\\x1b[0m_open\\x1b[0m\\x1b[0;34m(\\x1b[0m\\x1b[0mreq\\x1b[0m\\x1b[0;34m,\\x1b[0m \\x1b[0mdata\\x1b[0m\\x1b[0;34m)\\x1b[0m\\x1b[0;34m\\x1b[0m\\x1b[0m\\n\\x1b[0m\\x1b[1;32m    467\\x1b[0m \\x1b[0;34m\\x1b[0m\\x1b[0m\\n\\x1b[1;32m    468\\x1b[0m         \\x1b[0;31m# post-process response\\x1b[0m\\x1b[0;34m\\x1b[0m\\x1b[0;34m\\x1b[0m\\x1b[0m\\n', \"\\x1b[0;32m/home/vcap/app/.conda/envs/dep_env/lib/python3.5/urllib/request.py\\x1b[0m in \\x1b[0;36m_open\\x1b[0;34m(self, req, data)\\x1b[0m\\n\\x1b[1;32m    482\\x1b[0m         \\x1b[0mprotocol\\x1b[0m \\x1b[0;34m=\\x1b[0m \\x1b[0mreq\\x1b[0m\\x1b[0;34m.\\x1b[0m\\x1b[0mtype\\x1b[0m\\x1b[0;34m\\x1b[0m\\x1b[0m\\n\\x1b[1;32m    483\\x1b[0m         result = self._call_chain(self.handle_open, protocol, protocol +\\n\\x1b[0;32m--> 484\\x1b[0;31m                                   '_open', req)\\n\\x1b[0m\\x1b[1;32m    485\\x1b[0m         \\x1b[0;32mif\\x1b[0m \\x1b[0mresult\\x1b[0m\\x1b[0;34m:\\x1b[0m\\x1b[0;34m\\x1b[0m\\x1b[0m\\n\\x1b[1;32m    486\\x1b[0m             \\x1b[0;32mreturn\\x1b[0m \\x1b[0mresult\\x1b[0m\\x1b[0;34m\\x1b[0m\\x1b[0m\\n\", '\\x1b[0;32m/home/vcap/app/.conda/envs/dep_env/lib/python3.5/urllib/request.py\\x1b[0m in \\x1b[0;36m_call_chain\\x1b[0;34m(self, chain, kind, meth_name, *args)\\x1b[0m\\n\\x1b[1;32m    442\\x1b[0m         \\x1b[0;32mfor\\x1b[0m \\x1b[0mhandler\\x1b[0m \\x1b[0;32min\\x1b[0m \\x1b[0mhandlers\\x1b[0m\\x1b[0;34m:\\x1b[0m\\x1b[0;34m\\x1b[0m\\x1b[0m\\n\\x1b[1;32m    443\\x1b[0m             \\x1b[0mfunc\\x1b[0m \\x1b[0;34m=\\x1b[0m \\x1b[0mgetattr\\x1b[0m\\x1b[0;34m(\\x1b[0m\\x1b[0mhandler\\x1b[0m\\x1b[0;34m,\\x1b[0m \\x1b[0mmeth_name\\x1b[0m\\x1b[0;34m)\\x1b[0m\\x1b[0;34m\\x1b[0m\\x1b[0m\\n\\x1b[0;32m--> 444\\x1b[0;31m             \\x1b[0mresult\\x1b[0m \\x1b[0;34m=\\x1b[0m \\x1b[0mfunc\\x1b[0m\\x1b[0;34m(\\x1b[0m\\x1b[0;34m*\\x1b[0m\\x1b[0margs\\x1b[0m\\x1b[0;34m)\\x1b[0m\\x1b[0;34m\\x1b[0m\\x1b[0m\\n\\x1b[0m\\x1b[1;32m    445\\x1b[0m             \\x1b[0;32mif\\x1b[0m \\x1b[0mresult\\x1b[0m \\x1b[0;32mis\\x1b[0m \\x1b[0;32mnot\\x1b[0m \\x1b[0;32mNone\\x1b[0m\\x1b[0;34m:\\x1b[0m\\x1b[0;34m\\x1b[0m\\x1b[0m\\n\\x1b[1;32m    446\\x1b[0m                 \\x1b[0;32mreturn\\x1b[0m \\x1b[0mresult\\x1b[0m\\x1b[0;34m\\x1b[0m\\x1b[0m\\n', '\\x1b[0;32m/home/vcap/app/.conda/envs/dep_env/lib/python3.5/urllib/request.py\\x1b[0m in \\x1b[0;36mhttps_open\\x1b[0;34m(self, req)\\x1b[0m\\n\\x1b[1;32m   1295\\x1b[0m         \\x1b[0;32mdef\\x1b[0m \\x1b[0mhttps_open\\x1b[0m\\x1b[0;34m(\\x1b[0m\\x1b[0mself\\x1b[0m\\x1b[0;34m,\\x1b[0m \\x1b[0mreq\\x1b[0m\\x1b[0;34m)\\x1b[0m\\x1b[0;34m:\\x1b[0m\\x1b[0;34m\\x1b[0m\\x1b[0m\\n\\x1b[1;32m   1296\\x1b[0m             return self.do_open(http.client.HTTPSConnection, req,\\n\\x1b[0;32m-> 1297\\x1b[0;31m                 context=self._context, check_hostname=self._check_hostname)\\n\\x1b[0m\\x1b[1;32m   1298\\x1b[0m \\x1b[0;34m\\x1b[0m\\x1b[0m\\n\\x1b[1;32m   1299\\x1b[0m         \\x1b[0mhttps_request\\x1b[0m \\x1b[0;34m=\\x1b[0m \\x1b[0mAbstractHTTPHandler\\x1b[0m\\x1b[0;34m.\\x1b[0m\\x1b[0mdo_request_\\x1b[0m\\x1b[0;34m\\x1b[0m\\x1b[0m\\n', '\\x1b[0;32m/home/vcap/app/.conda/envs/dep_env/lib/python3.5/urllib/request.py\\x1b[0m in \\x1b[0;36mdo_open\\x1b[0;34m(self, http_class, req, **http_conn_args)\\x1b[0m\\n\\x1b[1;32m   1254\\x1b[0m                 \\x1b[0mh\\x1b[0m\\x1b[0;34m.\\x1b[0m\\x1b[0mrequest\\x1b[0m\\x1b[0;34m(\\x1b[0m\\x1b[0mreq\\x1b[0m\\x1b[0;34m.\\x1b[0m\\x1b[0mget_method\\x1b[0m\\x1b[0;34m(\\x1b[0m\\x1b[0;34m)\\x1b[0m\\x1b[0;34m,\\x1b[0m \\x1b[0mreq\\x1b[0m\\x1b[0;34m.\\x1b[0m\\x1b[0mselector\\x1b[0m\\x1b[0;34m,\\x1b[0m \\x1b[0mreq\\x1b[0m\\x1b[0;34m.\\x1b[0m\\x1b[0mdata\\x1b[0m\\x1b[0;34m,\\x1b[0m \\x1b[0mheaders\\x1b[0m\\x1b[0;34m)\\x1b[0m\\x1b[0;34m\\x1b[0m\\x1b[0m\\n\\x1b[1;32m   1255\\x1b[0m             \\x1b[0;32mexcept\\x1b[0m \\x1b[0mOSError\\x1b[0m \\x1b[0;32mas\\x1b[0m \\x1b[0merr\\x1b[0m\\x1b[0;34m:\\x1b[0m \\x1b[0;31m# timeout error\\x1b[0m\\x1b[0;34m\\x1b[0m\\x1b[0m\\n\\x1b[0;32m-> 1256\\x1b[0;31m                 \\x1b[0;32mraise\\x1b[0m \\x1b[0mURLError\\x1b[0m\\x1b[0;34m(\\x1b[0m\\x1b[0merr\\x1b[0m\\x1b[0;34m)\\x1b[0m\\x1b[0;34m\\x1b[0m\\x1b[0m\\n\\x1b[0m\\x1b[1;32m   1257\\x1b[0m             \\x1b[0mr\\x1b[0m \\x1b[0;34m=\\x1b[0m \\x1b[0mh\\x1b[0m\\x1b[0;34m.\\x1b[0m\\x1b[0mgetresponse\\x1b[0m\\x1b[0;34m(\\x1b[0m\\x1b[0;34m)\\x1b[0m\\x1b[0;34m\\x1b[0m\\x1b[0m\\n\\x1b[1;32m   1258\\x1b[0m         \\x1b[0;32mexcept\\x1b[0m\\x1b[0;34m:\\x1b[0m\\x1b[0;34m\\x1b[0m\\x1b[0m\\n', '\\x1b[0;31mURLError\\x1b[0m: <urlopen error [SSL: CERTIFICATE_VERIFY_FAILED] certificate verify failed (_ssl.c:646)>'], 'user_expressions': {}, 'evalue': '<urlopen error [SSL: CERTIFICATE_VERIFY_FAILED] certificate verify failed (_ssl.c:646)>', 'payload': [], 'ename': 'URLError', 'status': 'error', 'execution_count': 2})\n",
    "2016-08-24T14:13:35.33-0400 [APP/0]      ERR [KernelGatewayApp] Registering endpoint_path: /polarity_compute, methods: (['POST'])\n",
    "2016-08-24T14:13:35.33-0400 [APP/0]      ERR [KernelGatewayApp] The Jupyter Kernel Gateway is running at: http://0.0.0.0:8080\n",
    "2016-08-24T14:13:35.62-0400 [CELL/0]     OUT Container became healthy\n"
   ]
  },
  {
   "cell_type": "code",
   "execution_count": 15,
   "metadata": {
    "ExecuteTime": {
     "end_time": "2016-08-24T12:13:21.260686",
     "start_time": "2016-08-24T12:13:19.897690"
    },
    "collapsed": true
   },
   "outputs": [],
   "source": [
    "import requests\n",
    "resp = requests.get(\"https://github.com/crawles/sentiment_analysis_twitter_model/raw/master/twitter_sentiment_model.pkl\")\n",
    "resp.raise_for_status()\n",
    "cl = dill.loads(resp.content)"
   ]
  },
  {
   "cell_type": "code",
   "execution_count": null,
   "metadata": {
    "ExecuteTime": {
     "end_time": "2016-08-22T17:52:15.653020",
     "start_time": "2016-08-22T17:52:15.636712"
    },
    "collapsed": false
   },
   "outputs": [],
   "source": [
    "# POST /polarity_compute\n",
    "req = json.loads(REQUEST)\n",
    "print(cl.predict_proba(req['body']['data'])[:][:,1])"
   ]
  }
 ],
 "metadata": {
  "kernelspec": {
   "display_name": "Python 3",
   "language": "python",
   "name": "python3"
  },
  "language_info": {
   "codemirror_mode": {
    "name": "ipython",
    "version": 3
   },
   "file_extension": ".py",
   "mimetype": "text/x-python",
   "name": "python",
   "nbconvert_exporter": "python",
   "pygments_lexer": "ipython3",
   "version": "3.5.2"
  }
 },
 "nbformat": 4,
 "nbformat_minor": 0
}
