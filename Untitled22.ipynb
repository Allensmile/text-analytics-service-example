{
 "cells": [
  {
   "cell_type": "code",
   "execution_count": null,
   "metadata": {
    "ExecuteTime": {
     "end_time": "2016-08-23T16:36:16.551777",
     "start_time": "2016-08-23T16:36:16.512755"
    },
    "collapsed": false
   },
   "outputs": [],
   "source": [
    "import json\n",
    "\n",
    "import dill\n",
    "import pandas as pd\n",
    "import urllib"
   ]
  },
  {
   "cell_type": "code",
   "execution_count": null,
   "metadata": {
    "ExecuteTime": {
     "end_time": "2016-08-23T16:36:18.897682",
     "start_time": "2016-08-23T16:36:17.203685"
    },
    "collapsed": true
   },
   "outputs": [],
   "source": [
    "f = urllib.request.urlopen(\"https://github.com/crawles/sentiment_analysis_twitter_model/raw/master/twitter_sentiment_model.pkl\")\n",
    "cl = dill.load(f)\n",
    "f.close()"
   ]
  },
  {
   "cell_type": "code",
   "execution_count": null,
   "metadata": {
    "ExecuteTime": {
     "end_time": "2016-08-22T17:52:15.653020",
     "start_time": "2016-08-22T17:52:15.636712"
    },
    "collapsed": false
   },
   "outputs": [],
   "source": [
    "# POST /\n",
    "req = json.loads(REQUEST)\n",
    "print(cl.predict_proba(req['body']['data'])[:][:,1])"
   ]
  }
 ],
 "metadata": {
  "kernelspec": {
   "display_name": "Python 3",
   "language": "python",
   "name": "python3"
  },
  "language_info": {
   "codemirror_mode": {
    "name": "ipython",
    "version": 3
   },
   "file_extension": ".py",
   "mimetype": "text/x-python",
   "name": "python",
   "nbconvert_exporter": "python",
   "pygments_lexer": "ipython3",
   "version": "3.5.2"
  }
 },
 "nbformat": 4,
 "nbformat_minor": 0
}
